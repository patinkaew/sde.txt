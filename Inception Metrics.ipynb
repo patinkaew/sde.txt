{
 "cells": [
  {
   "cell_type": "code",
   "execution_count": 1,
   "metadata": {},
   "outputs": [],
   "source": [
    "import numpy as np\n",
    "import path, os\n",
    "import glob\n",
    "import torch\n",
    "from torchmetrics import IS, KID\n",
    "from torchvision import transforms as T\n",
    "from pytorch_pretrained_gans import make_gan\n",
    "import ast\n",
    "import matplotlib.pyplot as plt\n",
    "from PIL import Image"
   ]
  },
  {
   "cell_type": "code",
   "execution_count": 2,
   "metadata": {},
   "outputs": [],
   "source": [
    "label_file = open(\"imagenet1000_clsidx_to_labels.txt\", \"r\")\n",
    "label_dict = ast.literal_eval(label_file.read())"
   ]
  },
  {
   "cell_type": "code",
   "execution_count": 3,
   "metadata": {},
   "outputs": [
    {
     "name": "stdout",
     "output_type": "stream",
     "text": [
      "Loading BigGAN model biggan-deep-256 from cache at /Users/pinkaew/.pytorch_pretrained_biggan/e7d036ee69a83e83503c46902552573b27d856eaf6b8b84252a63a715dce7501.aec5caf3e5c5252b8857d6bb8adefa8d1d6092a8ba6c9aaed1e6678f8a46be43\n"
     ]
    }
   ],
   "source": [
    "# load pretrain GAN\n",
    "G = make_gan(gan_type='biggan')  # -> nn.Module"
   ]
  },
  {
   "cell_type": "code",
   "execution_count": 4,
   "metadata": {},
   "outputs": [],
   "source": [
    "# generate images from BigGAN in class \"goldfish\"\n",
    "torch.manual_seed(69)\n",
    "np.random.seed(69)\n",
    "batch_size = 50\n",
    "y = torch.zeros(1000)\n",
    "y[1] = 1\n",
    "y = y.repeat(batch_size, 1)\n",
    "z = G.sample_latent(batch_size=batch_size)  # -> torch.Size([1, 128])\n",
    "x = G(z=z, y=y)  # -> torch.Size([1, 3, 256, 256])"
   ]
  },
  {
   "cell_type": "code",
   "execution_count": 5,
   "metadata": {},
   "outputs": [],
   "source": [
    "def show_images(img_tensor, labels):\n",
    "    for i in range(labels.shape[0]):\n",
    "        img = img_tensor[i].squeeze().permute(1, 2, 0)\n",
    "        plt.imshow(img.detach().numpy())\n",
    "        plt.title(\"class: {}\".format(label_dict[np.argmax(labels[i].detach().numpy())]))\n",
    "        plt.show()"
   ]
  },
  {
   "cell_type": "code",
   "execution_count": 6,
   "metadata": {},
   "outputs": [],
   "source": [
    "#show_images(x[:5], y[:5])"
   ]
  },
  {
   "cell_type": "code",
   "execution_count": 8,
   "metadata": {},
   "outputs": [],
   "source": [
    "# rescale generated images\n",
    "fake_rgb = 256 * (x + 1)/2\n",
    "fake_rgb = fake_rgb.type(torch.ByteTensor)"
   ]
  },
  {
   "cell_type": "code",
   "execution_count": 9,
   "metadata": {},
   "outputs": [],
   "source": [
    "# load real images\n",
    "base_dir = os.getcwd()\n",
    "img_dir = base_dir + \"/ImageNet/goldfish\"\n",
    "\n",
    "trans = T.Compose([T.Resize((256,256)), T.ToTensor()])\n",
    "reals = []\n",
    "for filename in glob.glob(img_dir + \"/*.jpg\"):\n",
    "    im = Image.open(filename)\n",
    "    reals.append(trans(im))\n",
    "reals = torch.stack(reals)"
   ]
  },
  {
   "cell_type": "code",
   "execution_count": 10,
   "metadata": {},
   "outputs": [],
   "source": [
    "#show_images(reals[:5], y[:5])"
   ]
  },
  {
   "cell_type": "code",
   "execution_count": 11,
   "metadata": {},
   "outputs": [],
   "source": [
    "# rescale real images\n",
    "real_rgb = reals * 256\n",
    "real_rgb = reals.type(torch.ByteTensor)"
   ]
  },
  {
   "cell_type": "code",
   "execution_count": 12,
   "metadata": {},
   "outputs": [
    {
     "name": "stderr",
     "output_type": "stream",
     "text": [
      "/Users/pinkaew/anaconda3/anaconda3/lib/python3.7/site-packages/torchmetrics/utilities/prints.py:36: UserWarning: Metric `IS` will save all extracted features in buffer. For large datasets this may lead to large memory footprint.\n",
      "  warnings.warn(*args, **kwargs)\n"
     ]
    },
    {
     "name": "stdout",
     "output_type": "stream",
     "text": [
      "Fake IS score: 1.0078 +- 0.0042331\n",
      "Real IS score: 1.0247 +- 0.017933\n"
     ]
    }
   ],
   "source": [
    "# compute IS score\n",
    "is_ = IS()\n",
    "is_.reset()\n",
    "is_.update(fake_rgb)\n",
    "fake_is_mean, fake_is_std = is_.compute()\n",
    "is_.reset()\n",
    "is_.update(real_rgb[:batch_size])\n",
    "real_is_mean, real_is_std = is_.compute()\n",
    "\n",
    "print(\"Fake IS score: {:.5} +- {:.5}\".format(fake_is_mean, fake_is_std))\n",
    "print(\"Real IS score: {:.5} +- {:.5}\".format(real_is_mean, real_is_std))"
   ]
  },
  {
   "cell_type": "code",
   "execution_count": 13,
   "metadata": {},
   "outputs": [
    {
     "name": "stderr",
     "output_type": "stream",
     "text": [
      "/Users/pinkaew/anaconda3/anaconda3/lib/python3.7/site-packages/torchmetrics/utilities/prints.py:36: UserWarning: Metric `KID` will save all extracted features in buffer. For large datasets this may lead to large memory footprint.\n",
      "  warnings.warn(*args, **kwargs)\n"
     ]
    },
    {
     "name": "stdout",
     "output_type": "stream",
     "text": [
      "KID score: 0.75889 +- 0.027454\n"
     ]
    }
   ],
   "source": [
    "# compute KID score\n",
    "kid = KID(subset_size=10)\n",
    "kid.reset()\n",
    "kid.update(real_rgb, real=True)\n",
    "kid.update(fake_rgb, real=False)\n",
    "kid_mean, kid_std = kid.compute()\n",
    "print(\"KID score: {:.5} +- {:.5}\".format(kid_mean, kid_std))"
   ]
  },
  {
   "cell_type": "code",
   "execution_count": null,
   "metadata": {},
   "outputs": [],
   "source": []
  }
 ],
 "metadata": {
  "kernelspec": {
   "display_name": "Python 3",
   "language": "python",
   "name": "python3"
  },
  "language_info": {
   "codemirror_mode": {
    "name": "ipython",
    "version": 3
   },
   "file_extension": ".py",
   "mimetype": "text/x-python",
   "name": "python",
   "nbconvert_exporter": "python",
   "pygments_lexer": "ipython3",
   "version": "3.7.4"
  }
 },
 "nbformat": 4,
 "nbformat_minor": 2
}
